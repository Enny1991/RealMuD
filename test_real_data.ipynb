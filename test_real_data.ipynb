{
 "cells": [
  {
   "cell_type": "code",
   "execution_count": null,
   "metadata": {},
   "outputs": [],
   "source": [
    "import numpy as np\n",
    "import matplotlib.pyplot as plt \n",
    "%matplotlib inline\n",
    "import IPython.display as ipd\n",
    "\n",
    "import soundfile as sf\n",
    "import librosa\n",
    "from data_utils import MudNoise\n",
    "from model_stft import Mud\n",
    "import json\n",
    "import os\n",
    "import torch\n",
    "from torch import nn\n",
    "from torch.autograd import Variable\n",
    "import csv\n",
    "from librosa import stft\n",
    "plt.style.use('dark_background')"
   ]
  },
  {
   "cell_type": "code",
   "execution_count": null,
   "metadata": {},
   "outputs": [],
   "source": [
    "datadir = '/Data/DATASETS/WSJ/mud_noise/'\n",
    "validation_data_path = datadir + 'cv/debug_mud_v1.h5'\n",
    "\n",
    "data_verbose = MudNoise(validation_data_path, noisedir='/Data/DATASETS/NoiseX/8k/', task='cv')"
   ]
  },
  {
   "cell_type": "code",
   "execution_count": null,
   "metadata": {},
   "outputs": [],
   "source": [
    "def load_mask_model(load, base_dir='./'):\n",
    "    json_dir = base_dir + '/exp/' + load\n",
    "    with open(json_dir + '/architecture.json', 'r') as fff:\n",
    "        p = json.load(fff)\n",
    "        load_path = json_dir + '/net/' + 'cv/'\n",
    "\n",
    "        model = Mud(n_fft=p['nfft'], kernel=(p['kernel1'], p['kernel2']), causal=p['causal'],\n",
    "                                layers=p['layers'], stacks=p['stacks'], verbose=False)\n",
    "        \n",
    "        model = nn.DataParallel(model)\n",
    "\n",
    "        mdl_idx = sorted([int(l.split('_')[-1].split('.')[0]) for l in os.listdir(load_path)])[-1]\n",
    "        model.load_state_dict(torch.load(load_path + 'model_weight_{}.pt'.format(mdl_idx)))\n",
    "        _ = model.eval()\n",
    "        return model, p\n",
    "\n",
    "mdl, _ = load_mask_model('201903162304_baseline_NC')"
   ]
  },
  {
   "cell_type": "code",
   "execution_count": null,
   "metadata": {},
   "outputs": [],
   "source": [
    "mix, s1 = data_verbose[7]\n",
    "mix = Variable(mix[:4]).contiguous().cuda()\n",
    "recon = mdl(mix.unsqueeze(0))\n",
    "\n",
    "ipd.display(ipd.Audio(mix.data.cpu().numpy(), rate=8000))\n",
    "ipd.display(ipd.Audio(recon.squeeze().data.cpu().numpy(), rate=8000))"
   ]
  },
  {
   "cell_type": "code",
   "execution_count": null,
   "metadata": {},
   "outputs": [],
   "source": [
    "# (all files)\n",
    "all_files_names = []\n",
    "all_traces = []\n",
    "all_mics = []\n",
    "all_nspk = {}\n",
    "with open(\"/Data/Dropbox/cocoha_workshop_zh/cocoha_code/automated_exps/output_session2_15s.csv\", \"r\") as f:\n",
    "    reader = csv.reader(f, delimiter=\",\")\n",
    "    \n",
    "    for i, line in enumerate(reader):\n",
    "        all_nspk[line[0]] = int(line[-1])\n",
    "        all_traces.append(line[5:-1])\n",
    "        all_mics.append(line[1:5])\n",
    "        all_files_names.append(line[0])\n",
    "\n",
    "print(len(all_files_names))"
   ]
  },
  {
   "cell_type": "code",
   "execution_count": null,
   "metadata": {},
   "outputs": [],
   "source": [
    "def find_trigger_v2(x):\n",
    "    Y = x\n",
    "    X = stft(Y)\n",
    "    Y = np.log10(np.abs(X) ** 2 + 1e-8)\n",
    "    YY = np.sum(Y, 0)\n",
    "    n90 = np.percentile(YY, 65)\n",
    "    tr = np.where(YY >= n90)[0][0]\n",
    "    return tr * 512\n",
    "\n",
    "name = '20190222114858'\n",
    "all_data = []\n",
    "t_in_secs = []\n",
    "fs = 8000\n",
    "for i in [5, 6, 7, 8]:\n",
    "#     _fs, _y = wavfile.read('../data_whisper/session2/test_%s_wh%d.wav' % (name, i))\n",
    "    _y, _fs = librosa.load('/Data/Dropbox/cocoha_workshop_zh/cocoha_code/data_whisper/session2/test_%s_wh%d.wav' % (name, i), sr=8000, mono=False)\n",
    "    _y = _y.T.astype('float32')\n",
    "    all_data.append(_y)\n",
    "    assert(_fs == fs)\n",
    "    t_in_secs.append(_y.shape[0] // fs)\n",
    "    print(\"%d: %d seconds\" % (i, _y.shape[0] // fs), end='\\t\\t')\n",
    "\n",
    "n_spk = all_nspk[name]\n",
    "print(\"N SPK: {}\".format(n_spk))\n",
    "m_len = np.min([a.shape[0] for a in all_data])\n",
    "all_data_cut = [a[:m_len] for a in all_data]\n",
    "all_data_array = np.hstack(all_data_cut) #.astype('float32')\n",
    "\n",
    "\n",
    "t = np.arange(len(all_data_array[:, 0])) / fs\n",
    "\n",
    "for_trigger = all_data_array[:, 6]\n",
    "trigger = find_trigger_v2(for_trigger)\n",
    "noise_calib = all_data_array[:trigger]\n",
    "# noise_calib = NOISE_CALIB\n",
    "print(\"Noise {}    [MAX = 22s]\".format(len(noise_calib) // fs))\n",
    "calib1 = all_data_array[0 * fs + trigger: 10 * fs + trigger]\n",
    "calib2 = all_data_array[15 * fs + trigger: 25 * fs + trigger]\n",
    "calib3 = all_data_array[30 * fs + trigger: 40 * fs + trigger]\n",
    "calib4 = all_data_array[45 * fs + trigger: 55 * fs + trigger]\n",
    "\n",
    "rec = all_data_array[max((15 * n_spk), 30) * fs + trigger:]\n",
    "# rec = all_data_array[60 * fs + trigger:]\n",
    "\n",
    "\n",
    "print(\"Removing trigger => [{} ~= {}]\".format(t_in_secs[0] - trigger // fs, max((15 * n_spk), 30) + 15))\n",
    "\n",
    "plt.plot(for_trigger[:trigger + 5 * fs])\n",
    "plt.plot([trigger, trigger], [np.min(for_trigger[:trigger + 5 * fs]), np.max(for_trigger[:trigger + 5 * fs])], 'g--')"
   ]
  },
  {
   "cell_type": "code",
   "execution_count": null,
   "metadata": {},
   "outputs": [],
   "source": [
    "ipd.display(ipd.Audio(rec[:, 0], rate=8000))\n",
    "ipd.display(ipd.Audio(calib1[:, 0], rate=8000))"
   ]
  },
  {
   "cell_type": "code",
   "execution_count": null,
   "metadata": {},
   "outputs": [],
   "source": [
    "mix = Variable(torch.from_numpy(rec.T[:8])).contiguous().cuda()\n",
    "recon = mdl(mix.unsqueeze(0))\n",
    "\n",
    "ipd.display(ipd.Audio(calib1[:, 0], rate=8000))\n",
    "ipd.display(ipd.Audio(rec[:, 0], rate=8000))\n",
    "ipd.display(ipd.Audio(recon.squeeze().data.cpu().numpy(), rate=8000))"
   ]
  },
  {
   "cell_type": "code",
   "execution_count": null,
   "metadata": {},
   "outputs": [],
   "source": []
  }
 ],
 "metadata": {
  "kernelspec": {
   "display_name": "Python 3",
   "language": "python",
   "name": "python3"
  },
  "language_info": {
   "codemirror_mode": {
    "name": "ipython",
    "version": 3
   },
   "file_extension": ".py",
   "mimetype": "text/x-python",
   "name": "python",
   "nbconvert_exporter": "python",
   "pygments_lexer": "ipython3",
   "version": "3.6.8"
  }
 },
 "nbformat": 4,
 "nbformat_minor": 2
}
